{
 "cells": [
  {
   "cell_type": "code",
   "execution_count": null,
   "metadata": {},
   "outputs": [],
   "source": [
    "import  glob,   tqdm,   os, cv2,    time\n",
    "import  utils,  nets\n",
    "import  numpy             as np\n",
    "from    operator          import itemgetter"
   ]
  },
  {
   "cell_type": "code",
   "execution_count": null,
   "metadata": {},
   "outputs": [],
   "source": [
    "# ###### Change dataset in here #########\n",
    "path = os.path.join('datasets', 'UCM')\n",
    "start = 0\n",
    "end   = -1"
   ]
  },
  {
   "cell_type": "code",
   "execution_count": null,
   "metadata": {},
   "outputs": [],
   "source": [
    "if not os.path.isfile(os.path.join(path,'filneame.txt')):\n",
    "    utils.Filename_generator(path=path)\n",
    "    print(\"filename generated\" )"
   ]
  },
  {
   "cell_type": "code",
   "execution_count": null,
   "metadata": {},
   "outputs": [],
   "source": [
    "dirg = []\n",
    "with open(os.path.join(path, 'filneame.txt'), \"r\") as file:\n",
    "    for item in file:\n",
    "        # write each item on a new line\n",
    "        dirg.append(item)"
   ]
  },
  {
   "cell_type": "code",
   "execution_count": null,
   "metadata": {},
   "outputs": [],
   "source": [
    "cc = [os.path.join(path,'imgs',os.path.split(item)[-1][:-1]) for item in dirg]\n",
    "\n",
    "i = 0\n",
    "for file in tqdm.tqdm(cc[start:end]):\n",
    "  name = os.path.split(file)[-1].split('.')[0]\n",
    "  # Loading image\n",
    "\n",
    "  if not os.path.isfile(os.path.join(path,'masks',name+'.npz')):\n",
    "    image = cv2.imread(file)\n",
    "    image = cv2.resize(image, (utils.dim_input,utils.dim_input), interpolation = cv2.INTER_AREA)\n",
    "    image = cv2.cvtColor(image, cv2.COLOR_BGR2RGB)\n",
    "    # generate ROI\n",
    "    masks = nets.mask_generator.generate(image)\n",
    "    # Sorting dictionary by area\n",
    "    masks = sorted(masks, key=itemgetter('area'),reverse=True) \n",
    "\n",
    "    Dump = np.zeros(shape=[utils.channel_input,utils.dim_input,utils.dim_input])\n",
    "    for i in range(min(len(masks),utils.channel_input)):\n",
    "      Dump[i,:,:] = masks[i]['segmentation'].astype(int)\n",
    "\n",
    "    np.savez_compressed(os.path.join(path,'masks',name+'.npz'), my_array=Dump)\n",
    "  \n",
    "    # i += 1\n",
    "    # if i%10 == 0: time.sleep(5)\n",
    "  else:\n",
    "    print(f\"{file=} exist\")"
   ]
  }
 ],
 "metadata": {
  "kernelspec": {
   "display_name": "torch3.9",
   "language": "python",
   "name": "python3"
  },
  "language_info": {
   "codemirror_mode": {
    "name": "ipython",
    "version": 3
   },
   "file_extension": ".py",
   "mimetype": "text/x-python",
   "name": "python",
   "nbconvert_exporter": "python",
   "pygments_lexer": "ipython3",
   "version": "3.9.16"
  },
  "orig_nbformat": 4
 },
 "nbformat": 4,
 "nbformat_minor": 2
}
